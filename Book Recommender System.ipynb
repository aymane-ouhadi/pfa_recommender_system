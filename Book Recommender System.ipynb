{
 "cells": [
  {
   "cell_type": "code",
   "execution_count": 50,
   "id": "868f9afc",
   "metadata": {},
   "outputs": [],
   "source": [
    "import numpy as np\n",
    "import pandas as pd"
   ]
  },
  {
   "cell_type": "code",
   "execution_count": 51,
   "id": "4a544f41",
   "metadata": {},
   "outputs": [
    {
     "name": "stderr",
     "output_type": "stream",
     "text": [
      "C:\\Users\\Admin\\AppData\\Local\\Temp\\ipykernel_2752\\2609650994.py:2: DtypeWarning: Columns (3) have mixed types. Specify dtype option on import or set low_memory=False.\n",
      "  books = pd.read_csv(\"BX-Books.csv\", sep = \";\", encoding = \"latin-1\",  on_bad_lines='skip')\n"
     ]
    }
   ],
   "source": [
    "#Reading the excel sheets into a dataframe\n",
    "books = pd.read_csv(\"BX-Books.csv\", sep = \";\", encoding = \"latin-1\",  on_bad_lines='skip')\n",
    "users = pd.read_csv(\"BX-Users.csv\", sep = \";\", encoding = \"latin-1\",  on_bad_lines='skip')\n",
    "ratings = pd.read_csv(\"BX-Book-Ratings.csv\", sep = \";\", encoding = \"latin-1\",  on_bad_lines='skip')"
   ]
  },
  {
   "cell_type": "markdown",
   "id": "64ca3322",
   "metadata": {},
   "source": [
    "# Preprocessing Data"
   ]
  },
  {
   "cell_type": "code",
   "execution_count": 52,
   "id": "bd63d088",
   "metadata": {},
   "outputs": [
    {
     "name": "stderr",
     "output_type": "stream",
     "text": [
      "C:\\Users\\Admin\\AppData\\Local\\Temp\\ipykernel_2752\\3916432632.py:5: SettingWithCopyWarning: \n",
      "A value is trying to be set on a copy of a slice from a DataFrame\n",
      "\n",
      "See the caveats in the documentation: https://pandas.pydata.org/pandas-docs/stable/user_guide/indexing.html#returning-a-view-versus-a-copy\n",
      "  books.rename(columns = {'Book-Title':'title', 'Book-Author':'author', 'Year-Of-Publication':'year', 'Publisher':'publisher'}, inplace=True)\n"
     ]
    }
   ],
   "source": [
    "#Extracting only the columns that we'll need \n",
    "books = books[['ISBN', 'Book-Title', 'Book-Author', 'Year-Of-Publication', 'Publisher']]\n",
    "\n",
    "#Renaming the columns to make them easy to use\n",
    "books.rename(columns = {'Book-Title':'title', 'Book-Author':'author', 'Year-Of-Publication':'year', 'Publisher':'publisher'}, inplace=True)\n",
    "users.rename(columns = {'User-ID':'user_id', 'Location':'location', 'Age':'age'}, inplace=True)\n",
    "ratings.rename(columns = {'User-ID':'user_id', 'Book-Rating':'rating'}, inplace=True)   "
   ]
  },
  {
   "cell_type": "code",
   "execution_count": 53,
   "id": "84dfecbe",
   "metadata": {},
   "outputs": [
    {
     "data": {
      "text/html": [
       "<div>\n",
       "<style scoped>\n",
       "    .dataframe tbody tr th:only-of-type {\n",
       "        vertical-align: middle;\n",
       "    }\n",
       "\n",
       "    .dataframe tbody tr th {\n",
       "        vertical-align: top;\n",
       "    }\n",
       "\n",
       "    .dataframe thead th {\n",
       "        text-align: right;\n",
       "    }\n",
       "</style>\n",
       "<table border=\"1\" class=\"dataframe\">\n",
       "  <thead>\n",
       "    <tr style=\"text-align: right;\">\n",
       "      <th></th>\n",
       "      <th>ISBN</th>\n",
       "      <th>title</th>\n",
       "      <th>author</th>\n",
       "      <th>year</th>\n",
       "      <th>publisher</th>\n",
       "    </tr>\n",
       "  </thead>\n",
       "  <tbody>\n",
       "    <tr>\n",
       "      <th>0</th>\n",
       "      <td>0195153448</td>\n",
       "      <td>Classical Mythology</td>\n",
       "      <td>Mark P. O. Morford</td>\n",
       "      <td>2002</td>\n",
       "      <td>Oxford University Press</td>\n",
       "    </tr>\n",
       "    <tr>\n",
       "      <th>1</th>\n",
       "      <td>0002005018</td>\n",
       "      <td>Clara Callan</td>\n",
       "      <td>Richard Bruce Wright</td>\n",
       "      <td>2001</td>\n",
       "      <td>HarperFlamingo Canada</td>\n",
       "    </tr>\n",
       "    <tr>\n",
       "      <th>2</th>\n",
       "      <td>0060973129</td>\n",
       "      <td>Decision in Normandy</td>\n",
       "      <td>Carlo D'Este</td>\n",
       "      <td>1991</td>\n",
       "      <td>HarperPerennial</td>\n",
       "    </tr>\n",
       "    <tr>\n",
       "      <th>3</th>\n",
       "      <td>0374157065</td>\n",
       "      <td>Flu: The Story of the Great Influenza Pandemic...</td>\n",
       "      <td>Gina Bari Kolata</td>\n",
       "      <td>1999</td>\n",
       "      <td>Farrar Straus Giroux</td>\n",
       "    </tr>\n",
       "    <tr>\n",
       "      <th>4</th>\n",
       "      <td>0393045218</td>\n",
       "      <td>The Mummies of Urumchi</td>\n",
       "      <td>E. J. W. Barber</td>\n",
       "      <td>1999</td>\n",
       "      <td>W. W. Norton &amp;amp; Company</td>\n",
       "    </tr>\n",
       "    <tr>\n",
       "      <th>5</th>\n",
       "      <td>0399135782</td>\n",
       "      <td>The Kitchen God's Wife</td>\n",
       "      <td>Amy Tan</td>\n",
       "      <td>1991</td>\n",
       "      <td>Putnam Pub Group</td>\n",
       "    </tr>\n",
       "    <tr>\n",
       "      <th>6</th>\n",
       "      <td>0425176428</td>\n",
       "      <td>What If?: The World's Foremost Military Histor...</td>\n",
       "      <td>Robert Cowley</td>\n",
       "      <td>2000</td>\n",
       "      <td>Berkley Publishing Group</td>\n",
       "    </tr>\n",
       "    <tr>\n",
       "      <th>7</th>\n",
       "      <td>0671870432</td>\n",
       "      <td>PLEADING GUILTY</td>\n",
       "      <td>Scott Turow</td>\n",
       "      <td>1993</td>\n",
       "      <td>Audioworks</td>\n",
       "    </tr>\n",
       "    <tr>\n",
       "      <th>8</th>\n",
       "      <td>0679425608</td>\n",
       "      <td>Under the Black Flag: The Romance and the Real...</td>\n",
       "      <td>David Cordingly</td>\n",
       "      <td>1996</td>\n",
       "      <td>Random House</td>\n",
       "    </tr>\n",
       "    <tr>\n",
       "      <th>9</th>\n",
       "      <td>074322678X</td>\n",
       "      <td>Where You'll Find Me: And Other Stories</td>\n",
       "      <td>Ann Beattie</td>\n",
       "      <td>2002</td>\n",
       "      <td>Scribner</td>\n",
       "    </tr>\n",
       "    <tr>\n",
       "      <th>10</th>\n",
       "      <td>0771074670</td>\n",
       "      <td>Nights Below Station Street</td>\n",
       "      <td>David Adams Richards</td>\n",
       "      <td>1988</td>\n",
       "      <td>Emblem Editions</td>\n",
       "    </tr>\n",
       "    <tr>\n",
       "      <th>11</th>\n",
       "      <td>080652121X</td>\n",
       "      <td>Hitler's Secret Bankers: The Myth of Swiss Neu...</td>\n",
       "      <td>Adam Lebor</td>\n",
       "      <td>2000</td>\n",
       "      <td>Citadel Press</td>\n",
       "    </tr>\n",
       "    <tr>\n",
       "      <th>12</th>\n",
       "      <td>0887841740</td>\n",
       "      <td>The Middle Stories</td>\n",
       "      <td>Sheila Heti</td>\n",
       "      <td>2004</td>\n",
       "      <td>House of Anansi Press</td>\n",
       "    </tr>\n",
       "    <tr>\n",
       "      <th>13</th>\n",
       "      <td>1552041778</td>\n",
       "      <td>Jane Doe</td>\n",
       "      <td>R. J. Kaiser</td>\n",
       "      <td>1999</td>\n",
       "      <td>Mira Books</td>\n",
       "    </tr>\n",
       "    <tr>\n",
       "      <th>14</th>\n",
       "      <td>1558746218</td>\n",
       "      <td>A Second Chicken Soup for the Woman's Soul (Ch...</td>\n",
       "      <td>Jack Canfield</td>\n",
       "      <td>1998</td>\n",
       "      <td>Health Communications</td>\n",
       "    </tr>\n",
       "    <tr>\n",
       "      <th>15</th>\n",
       "      <td>1567407781</td>\n",
       "      <td>The Witchfinder (Amos Walker Mystery Series)</td>\n",
       "      <td>Loren D. Estleman</td>\n",
       "      <td>1998</td>\n",
       "      <td>Brilliance Audio - Trade</td>\n",
       "    </tr>\n",
       "    <tr>\n",
       "      <th>16</th>\n",
       "      <td>1575663937</td>\n",
       "      <td>More Cunning Than Man: A Social History of Rat...</td>\n",
       "      <td>Robert Hendrickson</td>\n",
       "      <td>1999</td>\n",
       "      <td>Kensington Publishing Corp.</td>\n",
       "    </tr>\n",
       "    <tr>\n",
       "      <th>17</th>\n",
       "      <td>1881320189</td>\n",
       "      <td>Goodbye to the Buttermilk Sky</td>\n",
       "      <td>Julia Oliver</td>\n",
       "      <td>1994</td>\n",
       "      <td>River City Pub</td>\n",
       "    </tr>\n",
       "    <tr>\n",
       "      <th>18</th>\n",
       "      <td>0440234743</td>\n",
       "      <td>The Testament</td>\n",
       "      <td>John Grisham</td>\n",
       "      <td>1999</td>\n",
       "      <td>Dell</td>\n",
       "    </tr>\n",
       "    <tr>\n",
       "      <th>19</th>\n",
       "      <td>0452264464</td>\n",
       "      <td>Beloved (Plume Contemporary Fiction)</td>\n",
       "      <td>Toni Morrison</td>\n",
       "      <td>1994</td>\n",
       "      <td>Plume</td>\n",
       "    </tr>\n",
       "  </tbody>\n",
       "</table>\n",
       "</div>"
      ],
      "text/plain": [
       "          ISBN                                              title  \\\n",
       "0   0195153448                                Classical Mythology   \n",
       "1   0002005018                                       Clara Callan   \n",
       "2   0060973129                               Decision in Normandy   \n",
       "3   0374157065  Flu: The Story of the Great Influenza Pandemic...   \n",
       "4   0393045218                             The Mummies of Urumchi   \n",
       "5   0399135782                             The Kitchen God's Wife   \n",
       "6   0425176428  What If?: The World's Foremost Military Histor...   \n",
       "7   0671870432                                    PLEADING GUILTY   \n",
       "8   0679425608  Under the Black Flag: The Romance and the Real...   \n",
       "9   074322678X            Where You'll Find Me: And Other Stories   \n",
       "10  0771074670                        Nights Below Station Street   \n",
       "11  080652121X  Hitler's Secret Bankers: The Myth of Swiss Neu...   \n",
       "12  0887841740                                 The Middle Stories   \n",
       "13  1552041778                                           Jane Doe   \n",
       "14  1558746218  A Second Chicken Soup for the Woman's Soul (Ch...   \n",
       "15  1567407781       The Witchfinder (Amos Walker Mystery Series)   \n",
       "16  1575663937  More Cunning Than Man: A Social History of Rat...   \n",
       "17  1881320189                      Goodbye to the Buttermilk Sky   \n",
       "18  0440234743                                      The Testament   \n",
       "19  0452264464               Beloved (Plume Contemporary Fiction)   \n",
       "\n",
       "                  author  year                    publisher  \n",
       "0     Mark P. O. Morford  2002      Oxford University Press  \n",
       "1   Richard Bruce Wright  2001        HarperFlamingo Canada  \n",
       "2           Carlo D'Este  1991              HarperPerennial  \n",
       "3       Gina Bari Kolata  1999         Farrar Straus Giroux  \n",
       "4        E. J. W. Barber  1999   W. W. Norton &amp; Company  \n",
       "5                Amy Tan  1991             Putnam Pub Group  \n",
       "6          Robert Cowley  2000     Berkley Publishing Group  \n",
       "7            Scott Turow  1993                   Audioworks  \n",
       "8        David Cordingly  1996                 Random House  \n",
       "9            Ann Beattie  2002                     Scribner  \n",
       "10  David Adams Richards  1988              Emblem Editions  \n",
       "11            Adam Lebor  2000                Citadel Press  \n",
       "12           Sheila Heti  2004        House of Anansi Press  \n",
       "13          R. J. Kaiser  1999                   Mira Books  \n",
       "14         Jack Canfield  1998        Health Communications  \n",
       "15     Loren D. Estleman  1998     Brilliance Audio - Trade  \n",
       "16    Robert Hendrickson  1999  Kensington Publishing Corp.  \n",
       "17          Julia Oliver  1994               River City Pub  \n",
       "18          John Grisham  1999                         Dell  \n",
       "19         Toni Morrison  1994                        Plume  "
      ]
     },
     "execution_count": 53,
     "metadata": {},
     "output_type": "execute_result"
    }
   ],
   "source": [
    "books.head(20)"
   ]
  },
  {
   "cell_type": "markdown",
   "id": "8814990f",
   "metadata": {},
   "source": [
    "# Exploratory Data Analysis\n",
    "\n",
    "## Flaw in the dataset \n",
    "To build our model, we should only rely on users who have given a decent amount of ratings so the model will be accurate enough. So we decided to limit the minimal number of ratings required at 200 ratings.\n",
    "\n",
    "The same goes for books, those who are not rated enough will disturb our model and never get recommended in the first place, so we will need to only extract the book who have at least 50 ratings\n",
    "\n",
    "## Step 1 : Extracting users and ratings of more than 200"
   ]
  },
  {
   "cell_type": "code",
   "execution_count": 54,
   "id": "e39bcb50",
   "metadata": {},
   "outputs": [
    {
     "name": "stdout",
     "output_type": "stream",
     "text": [
      "(899,)\n"
     ]
    }
   ],
   "source": [
    "#Extracting the users with at least 200 ratings\n",
    "x = ratings['user_id'].value_counts() > 200\n",
    "y = x[x].index\n",
    "print(y.shape) #899 users are included in our model\n",
    "#Reducing the ratings set to the preselected users\n",
    "ratings = ratings[ratings['user_id'].isin(y)]"
   ]
  },
  {
   "cell_type": "markdown",
   "id": "de1b4b03",
   "metadata": {},
   "source": [
    "## Step 2 : Merging the ratings with the books "
   ]
  },
  {
   "cell_type": "code",
   "execution_count": 55,
   "id": "a392effe",
   "metadata": {},
   "outputs": [
    {
     "data": {
      "text/html": [
       "<div>\n",
       "<style scoped>\n",
       "    .dataframe tbody tr th:only-of-type {\n",
       "        vertical-align: middle;\n",
       "    }\n",
       "\n",
       "    .dataframe tbody tr th {\n",
       "        vertical-align: top;\n",
       "    }\n",
       "\n",
       "    .dataframe thead th {\n",
       "        text-align: right;\n",
       "    }\n",
       "</style>\n",
       "<table border=\"1\" class=\"dataframe\">\n",
       "  <thead>\n",
       "    <tr style=\"text-align: right;\">\n",
       "      <th></th>\n",
       "      <th>user_id</th>\n",
       "      <th>ISBN</th>\n",
       "      <th>rating</th>\n",
       "      <th>title</th>\n",
       "      <th>author</th>\n",
       "      <th>year</th>\n",
       "      <th>publisher</th>\n",
       "    </tr>\n",
       "  </thead>\n",
       "  <tbody>\n",
       "    <tr>\n",
       "      <th>0</th>\n",
       "      <td>277427</td>\n",
       "      <td>002542730X</td>\n",
       "      <td>10</td>\n",
       "      <td>Politically Correct Bedtime Stories: Modern Ta...</td>\n",
       "      <td>James Finn Garner</td>\n",
       "      <td>1994</td>\n",
       "      <td>John Wiley &amp;amp; Sons Inc</td>\n",
       "    </tr>\n",
       "    <tr>\n",
       "      <th>1</th>\n",
       "      <td>3363</td>\n",
       "      <td>002542730X</td>\n",
       "      <td>0</td>\n",
       "      <td>Politically Correct Bedtime Stories: Modern Ta...</td>\n",
       "      <td>James Finn Garner</td>\n",
       "      <td>1994</td>\n",
       "      <td>John Wiley &amp;amp; Sons Inc</td>\n",
       "    </tr>\n",
       "    <tr>\n",
       "      <th>2</th>\n",
       "      <td>11676</td>\n",
       "      <td>002542730X</td>\n",
       "      <td>6</td>\n",
       "      <td>Politically Correct Bedtime Stories: Modern Ta...</td>\n",
       "      <td>James Finn Garner</td>\n",
       "      <td>1994</td>\n",
       "      <td>John Wiley &amp;amp; Sons Inc</td>\n",
       "    </tr>\n",
       "    <tr>\n",
       "      <th>3</th>\n",
       "      <td>12538</td>\n",
       "      <td>002542730X</td>\n",
       "      <td>10</td>\n",
       "      <td>Politically Correct Bedtime Stories: Modern Ta...</td>\n",
       "      <td>James Finn Garner</td>\n",
       "      <td>1994</td>\n",
       "      <td>John Wiley &amp;amp; Sons Inc</td>\n",
       "    </tr>\n",
       "    <tr>\n",
       "      <th>4</th>\n",
       "      <td>13552</td>\n",
       "      <td>002542730X</td>\n",
       "      <td>0</td>\n",
       "      <td>Politically Correct Bedtime Stories: Modern Ta...</td>\n",
       "      <td>James Finn Garner</td>\n",
       "      <td>1994</td>\n",
       "      <td>John Wiley &amp;amp; Sons Inc</td>\n",
       "    </tr>\n",
       "  </tbody>\n",
       "</table>\n",
       "</div>"
      ],
      "text/plain": [
       "   user_id        ISBN  rating  \\\n",
       "0   277427  002542730X      10   \n",
       "1     3363  002542730X       0   \n",
       "2    11676  002542730X       6   \n",
       "3    12538  002542730X      10   \n",
       "4    13552  002542730X       0   \n",
       "\n",
       "                                               title             author  year  \\\n",
       "0  Politically Correct Bedtime Stories: Modern Ta...  James Finn Garner  1994   \n",
       "1  Politically Correct Bedtime Stories: Modern Ta...  James Finn Garner  1994   \n",
       "2  Politically Correct Bedtime Stories: Modern Ta...  James Finn Garner  1994   \n",
       "3  Politically Correct Bedtime Stories: Modern Ta...  James Finn Garner  1994   \n",
       "4  Politically Correct Bedtime Stories: Modern Ta...  James Finn Garner  1994   \n",
       "\n",
       "                   publisher  \n",
       "0  John Wiley &amp; Sons Inc  \n",
       "1  John Wiley &amp; Sons Inc  \n",
       "2  John Wiley &amp; Sons Inc  \n",
       "3  John Wiley &amp; Sons Inc  \n",
       "4  John Wiley &amp; Sons Inc  "
      ]
     },
     "execution_count": 55,
     "metadata": {},
     "output_type": "execute_result"
    }
   ],
   "source": [
    "rating_with_books = ratings.merge(books, on='ISBN')\n",
    "rating_with_books.head()"
   ]
  },
  {
   "cell_type": "markdown",
   "id": "378012cd",
   "metadata": {},
   "source": [
    "## Step 3 : Extracting books that have received more than 50 ratings"
   ]
  },
  {
   "cell_type": "code",
   "execution_count": 56,
   "id": "f7becac4",
   "metadata": {},
   "outputs": [
    {
     "name": "stdout",
     "output_type": "stream",
     "text": [
      "                                                    title  number_of_ratings\n",
      "493                                                  1984                 76\n",
      "527                                   1st to Die: A Novel                162\n",
      "664                                            2nd Chance                124\n",
      "810                                             4 Blondes                 71\n",
      "1020                                84 Charing Cross Road                 54\n",
      "...                                                   ...                ...\n",
      "159044                                    Year of Wonders                 59\n",
      "159277                                   You Belong To Me                 56\n",
      "159916  Zen and the Art of Motorcycle Maintenance: An ...                 64\n",
      "160067                                               Zoya                 59\n",
      "160158                                \\O\\\" Is for Outlaw\"                105\n",
      "\n",
      "[742 rows x 2 columns]\n"
     ]
    }
   ],
   "source": [
    "number_rating = rating_with_books.groupby('title')['rating'].count().reset_index()\n",
    "number_rating.rename(columns= {'rating':'number_of_ratings'}, inplace=True)\n",
    "#Merging everything\n",
    "final_rating = rating_with_books.merge(number_rating, on='title')\n",
    "final_rating = final_rating[final_rating['number_of_ratings'] >= 50]\n",
    "final_rating.drop_duplicates(['user_id','title'], inplace=True)\n",
    "print(number_rating[number_rating['number_of_ratings'] >= 50])"
   ]
  },
  {
   "cell_type": "markdown",
   "id": "4b5e713c",
   "metadata": {},
   "source": [
    "## Step 4 : Create pivot table \n",
    "Now we will create a pivot table where columns will be user ids, the index will be book title and the value is ratings. And the user id who has not rated any book will have value as NAN so impute it with zero."
   ]
  },
  {
   "cell_type": "code",
   "execution_count": 57,
   "id": "7e52330b",
   "metadata": {},
   "outputs": [
    {
     "name": "stdout",
     "output_type": "stream",
     "text": [
      "user_id     254     2276    2766    2977    3363    3757    4017    4385    \\\n",
      "ISBN                                                                         \n",
      "0001047973     0.0     0.0     0.0     0.0     0.0     0.0     0.0     0.0   \n",
      "0006177379     0.0     0.0     0.0     0.0     0.0     0.0     0.0     0.0   \n",
      "0020697406     0.0     0.0     0.0     0.0     0.0     0.0     0.0     0.0   \n",
      "002542730X     0.0     0.0     0.0     0.0     0.0     0.0     0.0     0.0   \n",
      "002542730x     0.0     0.0     0.0     0.0     0.0     0.0     0.0     0.0   \n",
      "...            ...     ...     ...     ...     ...     ...     ...     ...   \n",
      "B00009EF82     0.0     0.0     0.0     0.0     0.0     0.0     0.0     0.0   \n",
      "B00009NDAN     0.0     0.0     0.0     0.0     0.0     0.0     0.0     0.0   \n",
      "B0000T6KHI     0.0     0.0     0.0     0.0     0.0     0.0     0.0     0.0   \n",
      "B0001PIOX4     0.0     0.0     0.0     0.0     0.0     0.0     0.0     0.0   \n",
      "B000234N76     0.0     0.0     0.0     0.0     0.0     0.0     0.0     0.0   \n",
      "\n",
      "user_id     6242    6251    ...  274004  274061  274301  274308  274808  \\\n",
      "ISBN                        ...                                           \n",
      "0001047973     0.0     0.0  ...     0.0     0.0     0.0     0.0     0.0   \n",
      "0006177379     0.0     0.0  ...     0.0     0.0     0.0     0.0     0.0   \n",
      "0020697406     0.0     0.0  ...     0.0     0.0     0.0     0.0     0.0   \n",
      "002542730X     0.0     0.0  ...     0.0     0.0     0.0     0.0     0.0   \n",
      "002542730x     0.0     0.0  ...     0.0     0.0     0.0     0.0     0.0   \n",
      "...            ...     ...  ...     ...     ...     ...     ...     ...   \n",
      "B00009EF82     0.0     0.0  ...     0.0     0.0     0.0     0.0     0.0   \n",
      "B00009NDAN     0.0     0.0  ...     0.0     0.0    10.0     0.0     0.0   \n",
      "B0000T6KHI     0.0     0.0  ...     0.0     0.0     0.0     0.0     0.0   \n",
      "B0001PIOX4     0.0     0.0  ...     0.0     0.0     0.0     0.0     0.0   \n",
      "B000234N76     0.0     0.0  ...     0.0     0.0     0.0     0.0     0.0   \n",
      "\n",
      "user_id     275970  277427  277478  277639  278418  \n",
      "ISBN                                                \n",
      "0001047973     0.0     0.0     0.0     0.0     0.0  \n",
      "0006177379     0.0     0.0     0.0     0.0     0.0  \n",
      "0020697406     0.0     0.0     0.0     0.0     0.0  \n",
      "002542730X     0.0    10.0     0.0     0.0     0.0  \n",
      "002542730x     0.0     0.0     0.0     0.0     0.0  \n",
      "...            ...     ...     ...     ...     ...  \n",
      "B00009EF82     0.0     0.0     0.0     0.0     0.0  \n",
      "B00009NDAN     0.0     0.0     0.0     0.0     0.0  \n",
      "B0000T6KHI     0.0     0.0     0.0     0.0     0.0  \n",
      "B0001PIOX4     0.0     0.0     0.0     0.0     0.0  \n",
      "B000234N76     0.0     0.0     0.0     0.0     0.0  \n",
      "\n",
      "[2144 rows x 888 columns]\n"
     ]
    }
   ],
   "source": [
    "book_pivot = final_rating.pivot_table(columns='user_id', index='ISBN', values=\"rating\")\n",
    "book_pivot.fillna(0, inplace=True)\n",
    "print(book_pivot)\n",
    "MOVIE_ISBN_LIST = book_pivot.index.tolist()\n",
    "# print(MOVIE_ISBN_LIST)"
   ]
  },
  {
   "cell_type": "markdown",
   "id": "07e305cc",
   "metadata": {},
   "source": [
    "But here in the pivot table, we have lots of zero values and on clustering, this computing power will increase to calculate the distance of zero values so we will convert the pivot table to the sparse matrix and then feed it to the model"
   ]
  },
  {
   "cell_type": "code",
   "execution_count": 58,
   "id": "6a173df3",
   "metadata": {},
   "outputs": [],
   "source": [
    "from scipy.sparse import csr_matrix\n",
    "book_sparse = csr_matrix(book_pivot)"
   ]
  },
  {
   "cell_type": "markdown",
   "id": "54e41492",
   "metadata": {},
   "source": [
    "Now we will train the nearest neighbors algorithm. here we need to specify an algorithm which is brute means find the distance of every point to every other point."
   ]
  },
  {
   "cell_type": "code",
   "execution_count": 59,
   "id": "d4f73002",
   "metadata": {},
   "outputs": [
    {
     "data": {
      "text/plain": [
       "NearestNeighbors(algorithm='brute', n_neighbors=10)"
      ]
     },
     "execution_count": 59,
     "metadata": {},
     "output_type": "execute_result"
    }
   ],
   "source": [
    "from sklearn.neighbors import NearestNeighbors\n",
    "#model = NearestNeighbors(algorithm = \"brute\")\n",
    "model = NearestNeighbors(n_neighbors= 10, algorithm = \"brute\")\n",
    "model.fit(book_sparse)"
   ]
  },
  {
   "cell_type": "markdown",
   "id": "51d2a8e7",
   "metadata": {},
   "source": [
    "## Step 5 : Testing the model \n",
    "Let’s make a prediction and see whether it is suggesting books or not. we will find the nearest neighbors to the input book id and after that, we will print the top 5 books which are closer to those books. It will provide us distance and book id at that distance. let us pass harry potter which is at index 237."
   ]
  },
  {
   "cell_type": "code",
   "execution_count": 61,
   "id": "416739bc",
   "metadata": {},
   "outputs": [],
   "source": [
    "#Getting the suggestions and the distances\n",
    "BOOK_ISBN = \"0020697406\"\n",
    "FIRST_MATCHING_ISBN = [isbn for isbn in MOVIE_ISBN_LIST if BOOK_ISBN == isbn][0]\n",
    "INDEX_SUGGESTION = MOVIE_ISBN_LIST.index(FIRST_MATCHING_ISBN)\n",
    "distances, suggestions = model.kneighbors(book_pivot.iloc[INDEX_SUGGESTION, :].values.reshape(1, -1))"
   ]
  },
  {
   "cell_type": "code",
   "execution_count": 65,
   "id": "af7a10e1",
   "metadata": {},
   "outputs": [
    {
     "name": "stdout",
     "output_type": "stream",
     "text": [
      "Given book's ISBN : 0020697406\n",
      "Book number 1493 => 0613033191\n",
      "Book number 472 => 0380781506\n",
      "Book number 1503 => 0613292146\n",
      "Book number 1499 => 0613224450\n",
      "Book number 1497 => 0613185048\n",
      "Book number 1494 => 0613064054\n",
      "Book number 468 => 0380752166\n",
      "Book number 469 => 0380760061\n",
      "Book number 1505 => 0613335864\n",
      "Book number 1492 => 0613032950\n"
     ]
    }
   ],
   "source": [
    "#Printing all the suggestions we got \n",
    "print(\"Given book's ISBN : \" + book_pivot.index[INDEX_SUGGESTION])\n",
    "#for i in range(len(suggestions)):\n",
    "#  print(book_pivot.index[suggestions[i]])\n",
    "for movie in suggestions[0]:\n",
    "    print(f'Book number {movie} => ' + book_pivot.iloc[movie].name)"
   ]
  },
  {
   "cell_type": "code",
   "execution_count": null,
   "id": "4b53a0cd",
   "metadata": {},
   "outputs": [],
   "source": []
  }
 ],
 "metadata": {
  "kernelspec": {
   "display_name": "Python 3 (ipykernel)",
   "language": "python",
   "name": "python3"
  },
  "language_info": {
   "codemirror_mode": {
    "name": "ipython",
    "version": 3
   },
   "file_extension": ".py",
   "mimetype": "text/x-python",
   "name": "python",
   "nbconvert_exporter": "python",
   "pygments_lexer": "ipython3",
   "version": "3.10.2"
  }
 },
 "nbformat": 4,
 "nbformat_minor": 5
}
