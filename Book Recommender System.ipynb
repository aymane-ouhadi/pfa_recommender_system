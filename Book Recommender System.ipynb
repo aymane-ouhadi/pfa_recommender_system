{
 "cells": [
  {
   "cell_type": "code",
   "execution_count": 1,
   "id": "868f9afc",
   "metadata": {},
   "outputs": [],
   "source": [
    "import numpy as np\n",
    "import pandas as pd"
   ]
  },
  {
   "cell_type": "code",
   "execution_count": 2,
   "id": "4a544f41",
   "metadata": {},
   "outputs": [
    {
     "name": "stderr",
     "output_type": "stream",
     "text": [
      "C:\\Users\\Admin\\AppData\\Local\\Temp\\ipykernel_8284\\2609650994.py:2: DtypeWarning: Columns (3) have mixed types. Specify dtype option on import or set low_memory=False.\n",
      "  books = pd.read_csv(\"BX-Books.csv\", sep = \";\", encoding = \"latin-1\",  on_bad_lines='skip')\n"
     ]
    }
   ],
   "source": [
    "#Reading the excel sheets into a dataframe\n",
    "books = pd.read_csv(\"BX-Books.csv\", sep = \";\", encoding = \"latin-1\",  on_bad_lines='skip')\n",
    "users = pd.read_csv(\"BX-Users.csv\", sep = \";\", encoding = \"latin-1\",  on_bad_lines='skip')\n",
    "ratings = pd.read_csv(\"BX-Book-Ratings.csv\", sep = \";\", encoding = \"latin-1\",  on_bad_lines='skip')"
   ]
  },
  {
   "cell_type": "markdown",
   "id": "64ca3322",
   "metadata": {},
   "source": [
    "# Preprocessing Data"
   ]
  },
  {
   "cell_type": "code",
   "execution_count": 3,
   "id": "bd63d088",
   "metadata": {},
   "outputs": [],
   "source": [
    "#Extracting only the columns that we'll need \n",
    "books = books[['ISBN', 'Book-Title', 'Book-Author', 'Year-Of-Publication', 'Publisher']]\n",
    "\n",
    "#Renaming the columns to make them easy to use\n",
    "books.rename(columns = {'Book-Title':'title', 'Book-Author':'author', 'Year-Of-Publication':'year', 'Publisher':'publisher'}, inplace=True)\n",
    "users.rename(columns = {'User-ID':'user_id', 'Location':'location', 'Age':'age'}, inplace=True)\n",
    "ratings.rename(columns = {'User-ID':'user_id', 'Book-Rating':'rating'}, inplace=True)   "
   ]
  },
  {
   "cell_type": "code",
   "execution_count": 4,
   "id": "84dfecbe",
   "metadata": {},
   "outputs": [
    {
     "data": {
      "text/html": [
       "<div>\n",
       "<style scoped>\n",
       "    .dataframe tbody tr th:only-of-type {\n",
       "        vertical-align: middle;\n",
       "    }\n",
       "\n",
       "    .dataframe tbody tr th {\n",
       "        vertical-align: top;\n",
       "    }\n",
       "\n",
       "    .dataframe thead th {\n",
       "        text-align: right;\n",
       "    }\n",
       "</style>\n",
       "<table border=\"1\" class=\"dataframe\">\n",
       "  <thead>\n",
       "    <tr style=\"text-align: right;\">\n",
       "      <th></th>\n",
       "      <th>ISBN</th>\n",
       "      <th>title</th>\n",
       "      <th>author</th>\n",
       "      <th>year</th>\n",
       "      <th>publisher</th>\n",
       "    </tr>\n",
       "  </thead>\n",
       "  <tbody>\n",
       "    <tr>\n",
       "      <th>0</th>\n",
       "      <td>0195153448</td>\n",
       "      <td>Classical Mythology</td>\n",
       "      <td>Mark P. O. Morford</td>\n",
       "      <td>2002</td>\n",
       "      <td>Oxford University Press</td>\n",
       "    </tr>\n",
       "    <tr>\n",
       "      <th>1</th>\n",
       "      <td>0002005018</td>\n",
       "      <td>Clara Callan</td>\n",
       "      <td>Richard Bruce Wright</td>\n",
       "      <td>2001</td>\n",
       "      <td>HarperFlamingo Canada</td>\n",
       "    </tr>\n",
       "    <tr>\n",
       "      <th>2</th>\n",
       "      <td>0060973129</td>\n",
       "      <td>Decision in Normandy</td>\n",
       "      <td>Carlo D'Este</td>\n",
       "      <td>1991</td>\n",
       "      <td>HarperPerennial</td>\n",
       "    </tr>\n",
       "    <tr>\n",
       "      <th>3</th>\n",
       "      <td>0374157065</td>\n",
       "      <td>Flu: The Story of the Great Influenza Pandemic...</td>\n",
       "      <td>Gina Bari Kolata</td>\n",
       "      <td>1999</td>\n",
       "      <td>Farrar Straus Giroux</td>\n",
       "    </tr>\n",
       "    <tr>\n",
       "      <th>4</th>\n",
       "      <td>0393045218</td>\n",
       "      <td>The Mummies of Urumchi</td>\n",
       "      <td>E. J. W. Barber</td>\n",
       "      <td>1999</td>\n",
       "      <td>W. W. Norton &amp;amp; Company</td>\n",
       "    </tr>\n",
       "    <tr>\n",
       "      <th>...</th>\n",
       "      <td>...</td>\n",
       "      <td>...</td>\n",
       "      <td>...</td>\n",
       "      <td>...</td>\n",
       "      <td>...</td>\n",
       "    </tr>\n",
       "    <tr>\n",
       "      <th>95</th>\n",
       "      <td>0671867156</td>\n",
       "      <td>Pretend You Don't See Her</td>\n",
       "      <td>Mary Higgins Clark</td>\n",
       "      <td>1998</td>\n",
       "      <td>Pocket</td>\n",
       "    </tr>\n",
       "    <tr>\n",
       "      <th>96</th>\n",
       "      <td>0312252617</td>\n",
       "      <td>Fast Women</td>\n",
       "      <td>Jennifer Crusie</td>\n",
       "      <td>2001</td>\n",
       "      <td>St. Martin's Press</td>\n",
       "    </tr>\n",
       "    <tr>\n",
       "      <th>97</th>\n",
       "      <td>0312261594</td>\n",
       "      <td>Female Intelligence</td>\n",
       "      <td>Jane Heller</td>\n",
       "      <td>2001</td>\n",
       "      <td>St. Martin's Press</td>\n",
       "    </tr>\n",
       "    <tr>\n",
       "      <th>98</th>\n",
       "      <td>0316748641</td>\n",
       "      <td>Pasquale's Nose: Idle Days in an Italian Town</td>\n",
       "      <td>Michael Rips</td>\n",
       "      <td>2002</td>\n",
       "      <td>Back Bay Books</td>\n",
       "    </tr>\n",
       "    <tr>\n",
       "      <th>99</th>\n",
       "      <td>0316973742</td>\n",
       "      <td>The Gospel of Judas: A Novel</td>\n",
       "      <td>Simon Mawer</td>\n",
       "      <td>2002</td>\n",
       "      <td>Back Bay Books</td>\n",
       "    </tr>\n",
       "  </tbody>\n",
       "</table>\n",
       "<p>100 rows × 5 columns</p>\n",
       "</div>"
      ],
      "text/plain": [
       "          ISBN                                              title  \\\n",
       "0   0195153448                                Classical Mythology   \n",
       "1   0002005018                                       Clara Callan   \n",
       "2   0060973129                               Decision in Normandy   \n",
       "3   0374157065  Flu: The Story of the Great Influenza Pandemic...   \n",
       "4   0393045218                             The Mummies of Urumchi   \n",
       "..         ...                                                ...   \n",
       "95  0671867156                          Pretend You Don't See Her   \n",
       "96  0312252617                                         Fast Women   \n",
       "97  0312261594                                Female Intelligence   \n",
       "98  0316748641      Pasquale's Nose: Idle Days in an Italian Town   \n",
       "99  0316973742                       The Gospel of Judas: A Novel   \n",
       "\n",
       "                  author  year                   publisher  \n",
       "0     Mark P. O. Morford  2002     Oxford University Press  \n",
       "1   Richard Bruce Wright  2001       HarperFlamingo Canada  \n",
       "2           Carlo D'Este  1991             HarperPerennial  \n",
       "3       Gina Bari Kolata  1999        Farrar Straus Giroux  \n",
       "4        E. J. W. Barber  1999  W. W. Norton &amp; Company  \n",
       "..                   ...   ...                         ...  \n",
       "95    Mary Higgins Clark  1998                      Pocket  \n",
       "96       Jennifer Crusie  2001          St. Martin's Press  \n",
       "97           Jane Heller  2001          St. Martin's Press  \n",
       "98          Michael Rips  2002              Back Bay Books  \n",
       "99           Simon Mawer  2002              Back Bay Books  \n",
       "\n",
       "[100 rows x 5 columns]"
      ]
     },
     "execution_count": 4,
     "metadata": {},
     "output_type": "execute_result"
    }
   ],
   "source": [
    "books.head(100)"
   ]
  },
  {
   "cell_type": "markdown",
   "id": "8814990f",
   "metadata": {},
   "source": [
    "# Exploratory Data Analysis\n",
    "\n",
    "## Flaw in the dataset \n",
    "To build our model, we should only rely on users who have given a decent amount of ratings so the model will be accurate enough. So we decided to limit the minimal number of ratings required at 200 ratings.\n",
    "\n",
    "The same goes for books, those who are not rated enough will disturb our model and never get recommended in the first place, so we will need to only extract the book who have at least 50 ratings\n",
    "\n",
    "## Step 1 : Extracting users and ratings of more than 200"
   ]
  },
  {
   "cell_type": "code",
   "execution_count": 5,
   "id": "e39bcb50",
   "metadata": {},
   "outputs": [
    {
     "name": "stdout",
     "output_type": "stream",
     "text": [
      "(899,)\n"
     ]
    }
   ],
   "source": [
    "#Extracting the users with at least 200 ratings\n",
    "x = ratings['user_id'].value_counts() > 200\n",
    "y = x[x].index\n",
    "print(y.shape) #899 users are included in our model\n",
    "#Reducing the ratings set to the preselected users\n",
    "ratings = ratings[ratings['user_id'].isin(y)]"
   ]
  },
  {
   "cell_type": "markdown",
   "id": "de1b4b03",
   "metadata": {},
   "source": [
    "## Step 2 : Merging the ratings with the books "
   ]
  },
  {
   "cell_type": "code",
   "execution_count": 6,
   "id": "a392effe",
   "metadata": {},
   "outputs": [
    {
     "data": {
      "text/html": [
       "<div>\n",
       "<style scoped>\n",
       "    .dataframe tbody tr th:only-of-type {\n",
       "        vertical-align: middle;\n",
       "    }\n",
       "\n",
       "    .dataframe tbody tr th {\n",
       "        vertical-align: top;\n",
       "    }\n",
       "\n",
       "    .dataframe thead th {\n",
       "        text-align: right;\n",
       "    }\n",
       "</style>\n",
       "<table border=\"1\" class=\"dataframe\">\n",
       "  <thead>\n",
       "    <tr style=\"text-align: right;\">\n",
       "      <th></th>\n",
       "      <th>user_id</th>\n",
       "      <th>ISBN</th>\n",
       "      <th>rating</th>\n",
       "      <th>title</th>\n",
       "      <th>author</th>\n",
       "      <th>year</th>\n",
       "      <th>publisher</th>\n",
       "    </tr>\n",
       "  </thead>\n",
       "  <tbody>\n",
       "    <tr>\n",
       "      <th>0</th>\n",
       "      <td>277427</td>\n",
       "      <td>002542730X</td>\n",
       "      <td>10</td>\n",
       "      <td>Politically Correct Bedtime Stories: Modern Ta...</td>\n",
       "      <td>James Finn Garner</td>\n",
       "      <td>1994</td>\n",
       "      <td>John Wiley &amp;amp; Sons Inc</td>\n",
       "    </tr>\n",
       "    <tr>\n",
       "      <th>1</th>\n",
       "      <td>3363</td>\n",
       "      <td>002542730X</td>\n",
       "      <td>0</td>\n",
       "      <td>Politically Correct Bedtime Stories: Modern Ta...</td>\n",
       "      <td>James Finn Garner</td>\n",
       "      <td>1994</td>\n",
       "      <td>John Wiley &amp;amp; Sons Inc</td>\n",
       "    </tr>\n",
       "    <tr>\n",
       "      <th>2</th>\n",
       "      <td>11676</td>\n",
       "      <td>002542730X</td>\n",
       "      <td>6</td>\n",
       "      <td>Politically Correct Bedtime Stories: Modern Ta...</td>\n",
       "      <td>James Finn Garner</td>\n",
       "      <td>1994</td>\n",
       "      <td>John Wiley &amp;amp; Sons Inc</td>\n",
       "    </tr>\n",
       "    <tr>\n",
       "      <th>3</th>\n",
       "      <td>12538</td>\n",
       "      <td>002542730X</td>\n",
       "      <td>10</td>\n",
       "      <td>Politically Correct Bedtime Stories: Modern Ta...</td>\n",
       "      <td>James Finn Garner</td>\n",
       "      <td>1994</td>\n",
       "      <td>John Wiley &amp;amp; Sons Inc</td>\n",
       "    </tr>\n",
       "    <tr>\n",
       "      <th>4</th>\n",
       "      <td>13552</td>\n",
       "      <td>002542730X</td>\n",
       "      <td>0</td>\n",
       "      <td>Politically Correct Bedtime Stories: Modern Ta...</td>\n",
       "      <td>James Finn Garner</td>\n",
       "      <td>1994</td>\n",
       "      <td>John Wiley &amp;amp; Sons Inc</td>\n",
       "    </tr>\n",
       "  </tbody>\n",
       "</table>\n",
       "</div>"
      ],
      "text/plain": [
       "   user_id        ISBN  rating  \\\n",
       "0   277427  002542730X      10   \n",
       "1     3363  002542730X       0   \n",
       "2    11676  002542730X       6   \n",
       "3    12538  002542730X      10   \n",
       "4    13552  002542730X       0   \n",
       "\n",
       "                                               title             author  year  \\\n",
       "0  Politically Correct Bedtime Stories: Modern Ta...  James Finn Garner  1994   \n",
       "1  Politically Correct Bedtime Stories: Modern Ta...  James Finn Garner  1994   \n",
       "2  Politically Correct Bedtime Stories: Modern Ta...  James Finn Garner  1994   \n",
       "3  Politically Correct Bedtime Stories: Modern Ta...  James Finn Garner  1994   \n",
       "4  Politically Correct Bedtime Stories: Modern Ta...  James Finn Garner  1994   \n",
       "\n",
       "                   publisher  \n",
       "0  John Wiley &amp; Sons Inc  \n",
       "1  John Wiley &amp; Sons Inc  \n",
       "2  John Wiley &amp; Sons Inc  \n",
       "3  John Wiley &amp; Sons Inc  \n",
       "4  John Wiley &amp; Sons Inc  "
      ]
     },
     "execution_count": 6,
     "metadata": {},
     "output_type": "execute_result"
    }
   ],
   "source": [
    "rating_with_books = ratings.merge(books, on='ISBN')\n",
    "rating_with_books.head()"
   ]
  },
  {
   "cell_type": "markdown",
   "id": "378012cd",
   "metadata": {},
   "source": [
    "## Step 3 : Extracting books that have received more than 50 ratings"
   ]
  },
  {
   "cell_type": "code",
   "execution_count": 7,
   "id": "f7becac4",
   "metadata": {},
   "outputs": [
    {
     "name": "stdout",
     "output_type": "stream",
     "text": [
      "(59850, 8)\n"
     ]
    }
   ],
   "source": [
    "number_rating = rating_with_books.groupby('title')['rating'].count().reset_index()\n",
    "number_rating.rename(columns= {'rating':'number_of_ratings'}, inplace=True)\n",
    "#Merging everything\n",
    "final_rating = rating_with_books.merge(number_rating, on='title')\n",
    "final_rating = final_rating[final_rating['number_of_ratings'] >= 50]\n",
    "final_rating.drop_duplicates(['user_id','title'], inplace=True)\n",
    "print(final_rating.shape)"
   ]
  },
  {
   "cell_type": "markdown",
   "id": "4b5e713c",
   "metadata": {},
   "source": [
    "## Step 4 : Create pivot table \n",
    "Now we will create a pivot table where columns will be user ids, the index will be book title and the value is ratings. And the user id who has not rated any book will have value as NAN so impute it with zero."
   ]
  },
  {
   "cell_type": "code",
   "execution_count": 8,
   "id": "7e52330b",
   "metadata": {},
   "outputs": [],
   "source": [
    "book_pivot = final_rating.pivot_table(columns='user_id', index='title', values=\"rating\")\n",
    "book_pivot.fillna(0, inplace=True)"
   ]
  },
  {
   "cell_type": "markdown",
   "id": "07e305cc",
   "metadata": {},
   "source": [
    "But here in the pivot table, we have lots of zero values and on clustering, this computing power will increase to calculate the distance of zero values so we will convert the pivot table to the sparse matrix and then feed it to the model"
   ]
  },
  {
   "cell_type": "code",
   "execution_count": 9,
   "id": "6a173df3",
   "metadata": {},
   "outputs": [],
   "source": [
    "from scipy.sparse import csr_matrix\n",
    "book_sparse = csr_matrix(book_pivot)"
   ]
  },
  {
   "cell_type": "markdown",
   "id": "54e41492",
   "metadata": {},
   "source": [
    "Now we will train the nearest neighbors algorithm. here we need to specify an algorithm which is brute means find the distance of every point to every other point."
   ]
  },
  {
   "cell_type": "code",
   "execution_count": 10,
   "id": "d4f73002",
   "metadata": {},
   "outputs": [
    {
     "data": {
      "text/plain": [
       "NearestNeighbors(algorithm='brute')"
      ]
     },
     "execution_count": 10,
     "metadata": {},
     "output_type": "execute_result"
    }
   ],
   "source": [
    "from sklearn.neighbors import NearestNeighbors\n",
    "model = NearestNeighbors(algorithm = \"brute\")\n",
    "model.fit(book_sparse)"
   ]
  },
  {
   "cell_type": "markdown",
   "id": "51d2a8e7",
   "metadata": {},
   "source": [
    "## Step 5 : Testing the model \n",
    "Let’s make a prediction and see whether it is suggesting books or not. we will find the nearest neighbors to the input book id and after that, we will print the top 5 books which are closer to those books. It will provide us distance and book id at that distance. let us pass harry potter which is at index 237."
   ]
  },
  {
   "cell_type": "code",
   "execution_count": 11,
   "id": "416739bc",
   "metadata": {},
   "outputs": [],
   "source": [
    "#Getting the suggestions and the distances\n",
    "INDEX_SUGGESTION = 199\n",
    "distances, suggestions = model.kneighbors(book_pivot.iloc[INDEX_SUGGESTION, :].values.reshape(1, -1))"
   ]
  },
  {
   "cell_type": "code",
   "execution_count": 12,
   "id": "af7a10e1",
   "metadata": {},
   "outputs": [
    {
     "name": "stdout",
     "output_type": "stream",
     "text": [
      "Given book : Fat Tuesday\n",
      "Index(['Book number 0 : Fat Tuesday\\n', 'Book number 0 : Exclusive\\n',\n",
      "       'Book number 0 : Long After Midnight\\n',\n",
      "       'Book number 0 : Jacob Have I Loved\\n',\n",
      "       'Book number 0 : No Safe Place\\n'],\n",
      "      dtype='object', name='title')\n"
     ]
    }
   ],
   "source": [
    "#Printing all the suggestions we got \n",
    "print(\"Given book : \" + book_pivot.index[INDEX_SUGGESTION])\n",
    "for i in range(len(suggestions)):\n",
    "  print(f\"Book number {i} : \" + book_pivot.index[suggestions[i]] + \"\\n\")"
   ]
  },
  {
   "cell_type": "code",
   "execution_count": null,
   "id": "328e9d5c",
   "metadata": {},
   "outputs": [],
   "source": []
  }
 ],
 "metadata": {
  "kernelspec": {
   "display_name": "Python 3 (ipykernel)",
   "language": "python",
   "name": "python3"
  },
  "language_info": {
   "codemirror_mode": {
    "name": "ipython",
    "version": 3
   },
   "file_extension": ".py",
   "mimetype": "text/x-python",
   "name": "python",
   "nbconvert_exporter": "python",
   "pygments_lexer": "ipython3",
   "version": "3.10.2"
  }
 },
 "nbformat": 4,
 "nbformat_minor": 5
}
